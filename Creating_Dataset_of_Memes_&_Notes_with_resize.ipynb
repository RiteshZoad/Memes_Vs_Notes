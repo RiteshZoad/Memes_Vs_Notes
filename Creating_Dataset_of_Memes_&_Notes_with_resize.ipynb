{
  "nbformat": 4,
  "nbformat_minor": 0,
  "metadata": {
    "colab": {
      "name": "Copy of Creating Dataset of Memes & Notes with resize.ipynb",
      "provenance": [],
      "collapsed_sections": []
    },
    "kernelspec": {
      "name": "python3",
      "display_name": "Python 3"
    },
    "accelerator": "GPU"
  },
  "cells": [
    {
      "cell_type": "markdown",
      "metadata": {
        "id": "-f81rlNmHc-K",
        "colab_type": "text"
      },
      "source": [
        "## 1.**Packages**"
      ]
    },
    {
      "cell_type": "code",
      "metadata": {
        "id": "q6uIuTpvG3A_",
        "colab_type": "code",
        "colab": {}
      },
      "source": [
        "from IPython.display import clear_output\n",
        "import matplotlib.pyplot as plt\n",
        "from matplotlib.pyplot import imshow\n",
        "import numpy as np\n",
        "import os\n",
        "from PIL import Image\n",
        "import random\n",
        "import cv2"
      ],
      "execution_count": null,
      "outputs": []
    },
    {
      "cell_type": "code",
      "metadata": {
        "id": "yTrlp0qhJByj",
        "colab_type": "code",
        "colab": {
          "base_uri": "https://localhost:8080/",
          "height": 121
        },
        "outputId": "cfe843ce-f73c-45fd-d6a0-25a4502e4d74"
      },
      "source": [
        "from google.colab import drive\n",
        "drive.mount('/content/gdrive')"
      ],
      "execution_count": null,
      "outputs": [
        {
          "output_type": "stream",
          "text": [
            "Go to this URL in a browser: https://accounts.google.com/o/oauth2/auth?client_id=947318989803-6bn6qk8qdgf4n4g3pfee6491hc0brc4i.apps.googleusercontent.com&redirect_uri=urn%3aietf%3awg%3aoauth%3a2.0%3aoob&response_type=code&scope=email%20https%3a%2f%2fwww.googleapis.com%2fauth%2fdocs.test%20https%3a%2f%2fwww.googleapis.com%2fauth%2fdrive%20https%3a%2f%2fwww.googleapis.com%2fauth%2fdrive.photos.readonly%20https%3a%2f%2fwww.googleapis.com%2fauth%2fpeopleapi.readonly\n",
            "\n",
            "Enter your authorization code:\n",
            "··········\n",
            "Mounted at /content/gdrive\n"
          ],
          "name": "stdout"
        }
      ]
    },
    {
      "cell_type": "markdown",
      "metadata": {
        "id": "R1i1zLtJNMtB",
        "colab_type": "text"
      },
      "source": [
        "# Stage 0\n",
        "Collecting the names of all memes and notes files separately"
      ]
    },
    {
      "cell_type": "code",
      "metadata": {
        "id": "Qejd3maiNDSK",
        "colab_type": "code",
        "colab": {
          "base_uri": "https://localhost:8080/",
          "height": 50
        },
        "outputId": "dda99f38-00b6-4d3b-83e7-29331ab7df0d"
      },
      "source": [
        "memes_0 = os.listdir(\"/content/drive/My Drive/Memes_Vs_Notes/Stage_0.zip (Unzipped Files)/Stage_0/Memes\")\n",
        "memes_total = len(memes_0)\n",
        "notes_0 = os.listdir(\"/content/drive/My Drive/Memes_Vs_Notes/Stage_0.zip (Unzipped Files)/Stage_0/Notes\")\n",
        "notes_total = len(notes_0)\n",
        "print(f\"Total number of Memes in Stage_0: {memes_total}\")\n",
        "print(f\"Total number of Notes in Stage_0: {notes_total}\")"
      ],
      "execution_count": null,
      "outputs": [
        {
          "output_type": "stream",
          "text": [
            "Total number of Memes in Stage_0: 800\n",
            "Total number of Notes in Stage_0: 800\n"
          ],
          "name": "stdout"
        }
      ]
    },
    {
      "cell_type": "markdown",
      "metadata": {
        "id": "Ghog3n-4VFAv",
        "colab_type": "text"
      },
      "source": [
        "# Stage 1\n",
        "Renaming files according to a sequential naming schema.\n",
        "All memes are in a directory called \"Memes\" and are named from \"0.jpg\" to \"memes_total-1.jpg\" where memes_total is the total number of memes.\n",
        "Similarly for notes.\n",
        "\n"
      ]
    },
    {
      "cell_type": "code",
      "metadata": {
        "id": "SdejDFeHXeRo",
        "colab_type": "code",
        "colab": {
          "base_uri": "https://localhost:8080/",
          "height": 50
        },
        "outputId": "3b1d4f5f-d981-4486-c6b3-c6754d5415ba"
      },
      "source": [
        "i = 0\n",
        "for meme in memes_0:\n",
        "    clear_output(wait=True)\n",
        "    r_path = f\"/content/drive/My Drive/Memes_Vs_Notes/Stage_0.zip (Unzipped Files)/Stage_0/Memes/{meme}\"\n",
        "    w_path = f\"/content/drive/My Drive/Memes_Vs_Notes/Stage_1/Memes/{i}.jpg\"\n",
        "    image = Image.open(r_path)\n",
        "    image.save(w_path)\n",
        "    i += 1\n",
        "    print(f\"Progress: {i}/{memes_total}\", flush=True)\n",
        "assert i == memes_total\n",
        "print(f\"Total number of memes in Stage_1: {i}\")"
      ],
      "execution_count": null,
      "outputs": [
        {
          "output_type": "stream",
          "text": [
            "Progress: 800/800\n",
            "Total number of memes in Stage_1: 800\n"
          ],
          "name": "stdout"
        }
      ]
    },
    {
      "cell_type": "code",
      "metadata": {
        "id": "DBepakiXYunL",
        "colab_type": "code",
        "colab": {
          "base_uri": "https://localhost:8080/",
          "height": 50
        },
        "outputId": "569382d5-4d95-4f0a-b03d-9ca42f0a816b"
      },
      "source": [
        "i = 0\n",
        "for note in notes_0:\n",
        "    clear_output(wait=True)\n",
        "    r_path = f\"/content/gdrive/My Drive/Memes_Vs_Notes/Stage_0.zip (Unzipped Files)/Stage_0/Notes/{note}\"\n",
        "    w_path = f\"/content/drive/My Drive/Memes_Vs_Notes/Stage_1/Notes{i}.jpg\"\n",
        "    image = Image.open(r_path)\n",
        "    image.save(w_path)\n",
        "    i += 1\n",
        "    print(f\"Progress: {i}/{notes_total}\", flush=True)\n",
        "assert i == notes_total\n",
        "print(f\"Total Number of notes in Stage_1: {i}\")"
      ],
      "execution_count": null,
      "outputs": [
        {
          "output_type": "stream",
          "text": [
            "Progress: 800/800\n",
            "Total Number of notes in Stage_1: 800\n"
          ],
          "name": "stdout"
        }
      ]
    },
    {
      "cell_type": "markdown",
      "metadata": {
        "id": "7e_uxGQzaKod",
        "colab_type": "text"
      },
      "source": [
        "# Stage 2\n",
        "Reshaping images into 256pi x 256pi x 3ch."
      ]
    },
    {
      "cell_type": "code",
      "metadata": {
        "id": "Ge0_YaJwaRFo",
        "colab_type": "code",
        "colab": {
          "base_uri": "https://localhost:8080/",
          "height": 50
        },
        "outputId": "4e69e2d0-1ac5-42b5-e85d-8b92a6f6eff9"
      },
      "source": [
        "for i in range(memes_total):\n",
        "    clear_output(wait=True)\n",
        "    r_path = f\"/content/gdrive/My Drive/Memes_Vs_Notes/Stage_1/Memes/{i}.jpg\"\n",
        "    w_path = f\"/content/gdrive/My Drive/Memes_Vs_Notes/Stage_2/Memes/{i}.jpg\"\n",
        "    image = Image.open(r_path).resize((256, 256))\n",
        "    image.save(w_path)\n",
        "    print(f\"Progress: {i+1}/{memes_total}\", flush=True)\n",
        "assert i+1 == memes_total\n",
        "print(f\"Total number of memes in Stage_2: {i+1}\")"
      ],
      "execution_count": null,
      "outputs": [
        {
          "output_type": "stream",
          "text": [
            "Progress: 800/800\n",
            "Total number of memes in Stage_2: 800\n"
          ],
          "name": "stdout"
        }
      ]
    },
    {
      "cell_type": "code",
      "metadata": {
        "id": "s4qIwpCxaVYD",
        "colab_type": "code",
        "colab": {
          "base_uri": "https://localhost:8080/",
          "height": 50
        },
        "outputId": "2b8b76d9-a861-4a5b-879b-97a3043d5fd4"
      },
      "source": [
        "for i in range(notes_total):\n",
        "    clear_output(wait=True)\n",
        "    r_path = f\"/content/gdrive/My Drive/Memes_Vs_Notes/Stage_1/Notes/{i}.jpg\"\n",
        "    w_path = f\"/content/gdrive/My Drive/Memes_Vs_Notes/Stage_2/Notes/{i}.jpg\"\n",
        "    image = Image.open(r_path).resize((256, 256))\n",
        "    image.save(w_path)\n",
        "    print(f\"Progress: {i+1}/{notes_total}\", flush=True)\n",
        "assert i+1 == notes_total\n",
        "print(f\"Total number of Notes in Stage_2: {i+1}\")"
      ],
      "execution_count": null,
      "outputs": [
        {
          "output_type": "stream",
          "text": [
            "Progress: 800/800\n",
            "Total number of Notes in Stage_2: 800\n"
          ],
          "name": "stdout"
        }
      ]
    },
    {
      "cell_type": "markdown",
      "metadata": {
        "id": "VryohG4awlWr",
        "colab_type": "text"
      },
      "source": [
        "# Stage_3\n",
        "Create Train Set, Test Set and Dev Set each containg 95%, 3% and 2% respectively of total memes and notes."
      ]
    },
    {
      "cell_type": "code",
      "metadata": {
        "id": "jIbFqKO3wk2u",
        "colab_type": "code",
        "colab": {
          "base_uri": "https://localhost:8080/",
          "height": 50
        },
        "outputId": "55926225-0d3f-4b71-bd04-a41f98ea758f"
      },
      "source": [
        "for i in range(int(95/100*memes_total)):\n",
        "    clear_output(wait=True)\n",
        "    r_path1 = f\"/content/drive/My Drive/Memes_Vs_Notes/Stage_2/Memes/{i}.jpg\"\n",
        "    r_path2 = f\"/content/drive/My Drive/Memes_Vs_Notes/Stage_2/Notes/{i}.jpg\"\n",
        "    w_path1 = f\"/content/drive/My Drive/Memes_Vs_Notes/Stage_3/Train_Set/Memes/{i}.jpg\"\n",
        "    w_path2 = f\"/content/drive/My Drive/Memes_Vs_Notes/Stage_3/Train_Set/Notes/{i}.jpg\"\n",
        "    image1 = Image.open(r_path1)\n",
        "    image2 = Image.open(r_path2)\n",
        "    image1.save(w_path1)\n",
        "    image2.save(w_path2)\n",
        "    print(f\"Progress: {i+1}/{int(95/100*memes_total)}\", flush=True)\n",
        "assert i+1 == int(95/100*memes_total)\n",
        "print(f\"Total number of memes and notes in Stage_3/Train_Set: {int(95/100*memes_total)}\")"
      ],
      "execution_count": null,
      "outputs": [
        {
          "output_type": "stream",
          "text": [
            "Progress: 760/760\n",
            "Total number of memes and notes in Stage_3/Train_Set: 760\n"
          ],
          "name": "stdout"
        }
      ]
    },
    {
      "cell_type": "code",
      "metadata": {
        "id": "fkt8INAk0GFF",
        "colab_type": "code",
        "colab": {
          "base_uri": "https://localhost:8080/",
          "height": 50
        },
        "outputId": "2f02f907-a69a-45ab-9d1d-efb6b4a3f7e1"
      },
      "source": [
        "for i in range(int(95/100*memes_total),int(98/100*memes_total)):\n",
        "    clear_output(wait=True)\n",
        "    r_path1 = f\"/content/drive/My Drive/Memes_Vs_Notes/Stage_2/Memes/{i}.jpg\"\n",
        "    r_path2 = f\"/content/drive/My Drive/Memes_Vs_Notes/Stage_2/Notes/{i}.jpg\"\n",
        "    w_path1 = f\"/content/drive/My Drive/Memes_Vs_Notes/Stage_3/Test_Set/Memes/{i}.jpg\"\n",
        "    w_path2 = f\"/content/drive/My Drive/Memes_Vs_Notes/Stage_3/Test_Set/Notes/{i}.jpg\"\n",
        "    image1 = Image.open(r_path1)\n",
        "    image2 = Image.open(r_path2)\n",
        "    image1.save(w_path1)\n",
        "    image2.save(w_path2)\n",
        "    print(f\"Progress: {(i+1)- (int(95/100*memes_total)) }/{(int(98/100*memes_total))-(int(95/100*memes_total))}\", flush=True)\n",
        "assert ((i+1) - (int(95/100*memes_total))) == int(3/100*memes_total)\n",
        "print(f\"Total number of memes and notes in Stage_3/Test_Set: {int(3/100*memes_total)}\")"
      ],
      "execution_count": null,
      "outputs": [
        {
          "output_type": "stream",
          "text": [
            "Progress: 24/24\n",
            "Total number of memes and notes in Stage_3/Test_Set: 24\n"
          ],
          "name": "stdout"
        }
      ]
    },
    {
      "cell_type": "code",
      "metadata": {
        "id": "eQXLWw0T7sT8",
        "colab_type": "code",
        "colab": {
          "base_uri": "https://localhost:8080/",
          "height": 50
        },
        "outputId": "b00bfcbf-4c09-4761-89a4-035d8467f2e5"
      },
      "source": [
        "for i in range(int(98/100*memes_total),int(100/100*memes_total)):\n",
        "    clear_output(wait=True)\n",
        "    r_path1 = f\"/content/drive/My Drive/Memes_Vs_Notes/Stage_2/Memes/{i}.jpg\"\n",
        "    r_path2 = f\"/content/drive/My Drive/Memes_Vs_Notes/Stage_2/Notes/{i}.jpg\"\n",
        "    w_path1 = f\"/content/drive/My Drive/Memes_Vs_Notes/Stage_3/Dev_Set/Memes/{i}.jpg\"\n",
        "    w_path2 = f\"/content/drive/My Drive/Memes_Vs_Notes/Stage_3/Dev_Set/Notes/{i}.jpg\"\n",
        "    image1 = Image.open(r_path1)\n",
        "    image2 = Image.open(r_path2)\n",
        "    image1.save(w_path1)\n",
        "    image2.save(w_path2)\n",
        "    print(f\"Progress: {(i+1)- (int(98/100*memes_total)) }/{(int(100/100*memes_total))-(int(98/100*memes_total))}\", flush=True)\n",
        "assert ((i+1) - (int(98/100*memes_total))) == int(2/100*memes_total)\n",
        "print(f\"Total number of memes and notes in Stage_3/Dev_Set: {int(2/100*memes_total)}\")"
      ],
      "execution_count": null,
      "outputs": [
        {
          "output_type": "stream",
          "text": [
            "Progress: 16/16\n",
            "Total number of memes and notes in Stage_3/Dev_Set: 16\n"
          ],
          "name": "stdout"
        }
      ]
    },
    {
      "cell_type": "markdown",
      "metadata": {
        "id": "h7OQkUz8llAe",
        "colab_type": "text"
      },
      "source": [
        "# Creating a dataset\n",
        "Firstly, converting the images into an array and the storing it into a separate array, then labelling them and finally reshuffling and saving these as .npy files."
      ]
    },
    {
      "cell_type": "code",
      "metadata": {
        "id": "ZlNaMa-L_0sc",
        "colab_type": "code",
        "colab": {}
      },
      "source": [
        "def create_training_data(DATADIR, CATEGORIES,DATASET = [],  DATASET_X = [], DATASET_Y = []):\n",
        "  for category in CATEGORIES:\n",
        "    path = os.path.join(DATADIR , category)\n",
        "    class_num = CATEGORIES.index(category)\n",
        "    for img in os.listdir(path):\n",
        "      img_array = cv2.imread(os.path.join(path,img))\n",
        "      new_array = cv2.resize(img_array, (64,64))\n",
        "      DATASET.append([new_array, class_num])\n",
        "  random.shuffle(DATASET)\n",
        "\n",
        "  return (DATASET)\n"
      ],
      "execution_count": null,
      "outputs": []
    },
    {
      "cell_type": "code",
      "metadata": {
        "id": "MVcJuizIDviO",
        "colab_type": "code",
        "colab": {}
      },
      "source": [
        "def separating_x_y (DATASET, DATASET_X = [], DATASET_Y = [], n=None  ):\n",
        "  for features,labels in DATASET:\n",
        "    DATASET_X.append(features)\n",
        "    DATASET_Y.append(labels)\n",
        "\n",
        "  DATASET_X = np.array(DATASET_X).reshape(-1, 64,64,3)\n",
        "  DATASET_Y = np.array(DATASET_Y).reshape(1, n)\n",
        "  return (DATASET_X,DATASET_Y)\n"
      ],
      "execution_count": null,
      "outputs": []
    },
    {
      "cell_type": "code",
      "metadata": {
        "id": "usB1Cwk--q7m",
        "colab_type": "code",
        "colab": {}
      },
      "source": [
        "DATADIR1 = \"/content/gdrive/My Drive/Memes_Vs_Notes/Stage_3/Train_Set\"\n",
        "CATEGORIES1 = [\"Memes\" , \"Notes\"]\n",
        "train_set = []\n",
        "\n",
        "DATADIR2 = \"/content/gdrive/My Drive/Memes_Vs_Notes/Stage_3/Test_Set\"\n",
        "CATEGORIES2 = [\"Memes\" , \"Notes\"]\n",
        "test_set = []\n",
        "\n",
        "DATADIR3 = \"/content/gdrive/My Drive/Memes_Vs_Notes/Stage_3/Dev_Set\"\n",
        "CATEGORIES3 = [\"Memes\" , \"Notes\"]\n",
        "dev_set = []"
      ],
      "execution_count": null,
      "outputs": []
    },
    {
      "cell_type": "code",
      "metadata": {
        "id": "SYH_wLcNIitI",
        "colab_type": "code",
        "colab": {}
      },
      "source": [
        "train_set = create_training_data(DATADIR1, CATEGORIES1 ,DATASET = [],  DATASET_X = [], DATASET_Y = [])\n",
        "train_x_orig,train_y = separating_x_y(train_set, DATASET_X = [], DATASET_Y = [] , n = 1520)\n"
      ],
      "execution_count": null,
      "outputs": []
    },
    {
      "cell_type": "code",
      "metadata": {
        "id": "N-98JGT8ncjf",
        "colab_type": "code",
        "colab": {}
      },
      "source": [
        "test_set = create_training_data(DATADIR2, CATEGORIES2 ,DATASET = [],  DATASET_X = [], DATASET_Y = [])\n",
        "test_x_orig,test_y = separating_x_y(test_set, DATASET_X = [], DATASET_Y = [],n = 48)"
      ],
      "execution_count": null,
      "outputs": []
    },
    {
      "cell_type": "code",
      "metadata": {
        "id": "_gJqc5g-nc5O",
        "colab_type": "code",
        "colab": {}
      },
      "source": [
        "dev_set = create_training_data(DATADIR3, CATEGORIES3 ,DATASET = [],  DATASET_X = [], DATASET_Y = [])\n",
        "dev_x_orig,dev_y = separating_x_y(dev_set, DATASET_X = [], DATASET_Y = [],n = 32)"
      ],
      "execution_count": null,
      "outputs": []
    },
    {
      "cell_type": "code",
      "metadata": {
        "id": "2BzJpFQfIw9U",
        "colab_type": "code",
        "colab": {
          "base_uri": "https://localhost:8080/",
          "height": 185
        },
        "outputId": "c8a94d63-77b8-423e-ace5-7b7c500d2381"
      },
      "source": [
        "print(train_x_orig.shape)\n",
        "print(train_y.shape)\n",
        "print(test_x_orig.shape)\n",
        "print(test_y.shape)\n",
        "print(dev_x_orig.shape)\n",
        "print(dev_y.shape)\n",
        "print(train_y[:10])\n",
        "print(test_y[:10])\n",
        "print(dev_y[:10])"
      ],
      "execution_count": null,
      "outputs": [
        {
          "output_type": "stream",
          "text": [
            "(1520, 64, 64, 3)\n",
            "(1, 1520)\n",
            "(48, 64, 64, 3)\n",
            "(1, 48)\n",
            "(32, 64, 64, 3)\n",
            "(1, 32)\n",
            "[[1 1 1 ... 1 0 1]]\n",
            "[[1 0 1 0 0 1 0 0 0 1 1 1 0 0 1 1 1 1 1 0 0 0 1 1 0 1 1 1 0 1 1 0 1 1 0 1\n",
            "  0 1 0 1 0 0 0 0 1 0 0 0]]\n",
            "[[0 1 0 0 1 1 0 1 1 0 0 0 1 0 0 1 1 1 0 1 0 1 0 0 0 1 0 0 1 1 1 1]]\n"
          ],
          "name": "stdout"
        }
      ]
    },
    {
      "cell_type": "code",
      "metadata": {
        "id": "kYcpMr5kAAvz",
        "colab_type": "code",
        "colab": {}
      },
      "source": [
        "train_set_x_orig = [] \n",
        "train_set_y = []\n",
        "np.save('train_set_x_orig' ,train_x_orig )\n",
        "np.save('train_set_y' ,train_y )\n",
        "\n",
        "test_set_x_orig = [] \n",
        "test_set_y = []\n",
        "np.save('test_set_x_orig' ,test_x_orig )\n",
        "np.save('test_set_y' ,test_y )\n",
        "\n",
        "dev_set_x_orig = [] \n",
        "dev_set_y = []\n",
        "np.save('dev_set_x_orig' ,dev_x_orig )\n",
        "np.save('dev_set_y' ,dev_y )"
      ],
      "execution_count": null,
      "outputs": []
    }
  ]
}